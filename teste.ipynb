{
 "cells": [
  {
   "cell_type": "code",
   "execution_count": 1,
   "metadata": {},
   "outputs": [],
   "source": [
    "lista = [['1', '28/05/2023', '15.5', '3'], ['2', '28/05/2023', '31.0', '3'], ['4', '28/05/2023', '48.0', '2']]"
   ]
  },
  {
   "cell_type": "code",
   "execution_count": null,
   "metadata": {},
   "outputs": [],
   "source": [
    "qtd_vendas = len(lista)\n",
    "print(qtd_vendas)\n",
    "for venda in range(qtd_vendas):\n",
    "    quantidade = int(lista[venda][0])\n",
    "    data_venda = lista[venda][1]\n",
    "    valor = float(lista[venda][2])\n",
    "    livro_id = int(lista[venda][3])\n",
    "    print(valor)"
   ]
  },
  {
   "cell_type": "code",
   "execution_count": null,
   "metadata": {},
   "outputs": [],
   "source": [
    "# Ações de botões\n",
    "        ###self.tableWidget.itemClicked.connect(self.carrega_campos)\n",
    "        # self.btn_adicionar_livro.clicked.connect(self.cadastrar_livro)\n",
    "        # self.btn_editar_livro.clicked.connect(self.editar_livros)\n",
    "        # self.btn_ver_estoque.clicked.connect(self.carregar_tabela)\n",
    "        # self.cb_editar_livros.activated.connect(\n",
    "        #     self.preencher_lineEdits)\n",
    "        # self.cb_registrar_venda.activated.connect(\n",
    "        #     self.preencher_lineEdits_2)\n",
    "        # self.spinBox.valueChanged.connect(self.calcular_valor)\n",
    "        # self.btn_excluir.clicked.connect(self.excluir_livros)\n",
    "        # self.btn_cadastrar_user.clicked.connect(self.cadastrar_usuario)\n",
    "        # self.btn_cadastrar_livro.clicked.connect(self.preencher_listWidget_2)\n",
    "        # self.cb_editar_livros.mouseReleaseEvent = self.preencher_comboBox\n",
    "        # self.cb_registrar_venda.mouseReleaseEvent = self.preencher_comboBox_2\n",
    "        # self.btn_registrar_venda.clicked.connect(self.preencher_data)\n",
    "        # self.btn_reg_venda.clicked.connect(self.registrar_venda)\n",
    "        # self.btn_mais_livros.clicked.connect(self.preenche_tabela)\n",
    "        # self.btn_mais_livros.clicked.connect(self.calcular_totais)\n",
    "        # self.btn_remover_livro.clicked.connect(self.excluir_livros_2)\n",
    "        # self.btn_remover_livro.clicked.connect(self.calcular_totais)\n",
    "        # self.label_capa.mouseReleaseEvent = self.abre_diretorio_edicao\n",
    "        # self.capa_do_livro.mouseReleaseEvent = self.abre_diretorio_cadastro\n",
    "\n",
    "        # # Navegação de páginas\n",
    "        # self.btn_editar_livros.clicked.connect(\n",
    "        #     lambda: self.stackedWidget.setCurrentWidget(self.tab_editar_livros))\n",
    "        # self.btn_cadastrar_livro.clicked.connect(\n",
    "        #     lambda: self.stackedWidget.setCurrentWidget(self.tab_cadastrar_livros))\n",
    "        # self.btn_ver_estoque.clicked.connect(\n",
    "        #     lambda: self.stackedWidget.setCurrentWidget(self.tab_livros))\n",
    "        # self.btn_registrar_venda.clicked.connect(\n",
    "        #     lambda: self.stackedWidget.setCurrentWidget(self.tab_registrar_venda))\n",
    "        # self.btn_cadastrar_usuario.clicked.connect(\n",
    "        #     lambda: self.stackedWidget.setCurrentWidget(self.tab_cadastrar_usuario))"
   ]
  },
  {
   "cell_type": "code",
   "execution_count": null,
   "metadata": {},
   "outputs": [],
   "source": [
    "lista = [['1', '28/05/2023', '15.5', '3'], ['2', '28/05/2023', '31.0', '3'], ['4', '28/05/2023', '48.0', '2']]\n",
    "\n",
    "valor = lista[0][2]\n",
    "print(valor)"
   ]
  }
 ],
 "metadata": {
  "kernelspec": {
   "display_name": "venv",
   "language": "python",
   "name": "python3"
  },
  "language_info": {
   "codemirror_mode": {
    "name": "ipython",
    "version": 3
   },
   "file_extension": ".py",
   "mimetype": "text/x-python",
   "name": "python",
   "nbconvert_exporter": "python",
   "pygments_lexer": "ipython3",
   "version": "3.9.12"
  },
  "orig_nbformat": 4
 },
 "nbformat": 4,
 "nbformat_minor": 2
}
